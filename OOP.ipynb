{
 "cells": [
  {
   "cell_type": "code",
   "execution_count": null,
   "metadata": {},
   "outputs": [],
   "source": [
    "class Student:\n",
    "    \"\"\"\n",
    "    学生のクラス\n",
    "    \"\"\"\n",
    "    def __init__(self, name:str, id:str) -> None:\n",
    "        \"\"\"\n",
    "        parameters\n",
    "        --------\n",
    "        name: 名前\n",
    "        id: 学籍番号\n",
    "        \"\"\"\n",
    "        self._name: str = name\n",
    "        self._id: str = id\n",
    "        self._creditEarned:list[tuple[str,int]] = list()\n",
    "\n",
    "    def registerCredit(self, lecture:str, unit:int) -> None:\n",
    "        \"\"\"\n",
    "        取得単位の登録\n",
    "\n",
    "        parameters\n",
    "        --------\n",
    "        lecture: 科目名\n",
    "        unit: 単位数\n",
    "        \"\"\"\n",
    "        self._creditEarned.append((lecture, unit))\n",
    "    \n",
    "    @property\n",
    "    def name(self) -> str:\n",
    "        return self._name\n",
    "    \n",
    "    @property\n",
    "    def creditEarned(self) -> list[tuple[str, int]]:\n",
    "        return self._creditEarned\n"
   ]
  },
  {
   "cell_type": "code",
   "execution_count": null,
   "metadata": {},
   "outputs": [],
   "source": [
    "bob = Student('bob',str(1))\n",
    "alice = Student('alice',str(2))\n",
    "bob.registerCredit('English',2)\n",
    "bob.registerCredit('Math',2)\n",
    "alice.registerCredit('French',2)\n",
    "alice.registerCredit('Sci',2)\n",
    "print(f\"{bob.name}'s credit earned\")\n",
    "for c in bob.creditEarned:\n",
    "    print(c)\n",
    "print(f\"{alice.name}'s credit earned\")\n",
    "for c in alice.creditEarned:\n",
    "    print(c)    \n"
   ]
  }
 ],
 "metadata": {
  "kernelspec": {
   "display_name": "Python 3.9.7 ('myenv')",
   "language": "python",
   "name": "python3"
  },
  "language_info": {
   "codemirror_mode": {
    "name": "ipython",
    "version": 3
   },
   "file_extension": ".py",
   "mimetype": "text/x-python",
   "name": "python",
   "nbconvert_exporter": "python",
   "pygments_lexer": "ipython3",
   "version": "3.9.7"
  },
  "orig_nbformat": 4,
  "vscode": {
   "interpreter": {
    "hash": "5b50574aca822a4663eeb358827631e5cbe081f130521b0066dec6b864ef6f2f"
   }
  }
 },
 "nbformat": 4,
 "nbformat_minor": 2
}
