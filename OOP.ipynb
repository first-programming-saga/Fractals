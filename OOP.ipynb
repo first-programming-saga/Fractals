{
 "cells": [
  {
   "cell_type": "code",
   "execution_count": 5,
   "metadata": {},
   "outputs": [],
   "source": [
    "class Student:\n",
    "    \"\"\"\n",
    "    学生のクラス\n",
    "    \"\"\"\n",
    "    def __init__(self, name:str, id:str):\n",
    "        \"\"\"\n",
    "        parameters\n",
    "        --------\n",
    "        name: 名前\n",
    "        id: 学籍番号\n",
    "        \"\"\"\n",
    "        self.__name = name\n",
    "        self.__id = id\n",
    "        self.__creditEarned = list()\n",
    "\n",
    "    def registerCredit(self, lecture:str, unit:int):\n",
    "        \"\"\"\n",
    "        取得単位の登録\n",
    "\n",
    "        parameters\n",
    "        --------\n",
    "        lecture: 科目名\n",
    "        unit: 単位数\n",
    "        \"\"\"\n",
    "        self.__creditEarned.append((lecture, unit))\n",
    "    \n",
    "    @property\n",
    "    def name(self):\n",
    "        pass\n",
    "    @name.getter\n",
    "    def name(self):\n",
    "        return self.__name\n",
    "    @property\n",
    "    def creditEarned(self):\n",
    "        pass\n",
    "    @creditEarned.getter\n",
    "    def creditEarned(self):\n",
    "        return self.__creditEarned\n"
   ]
  },
  {
   "cell_type": "code",
   "execution_count": 6,
   "metadata": {},
   "outputs": [
    {
     "name": "stdout",
     "output_type": "stream",
     "text": [
      "bob's credit earned\n",
      "('English', 2)\n",
      "('Math', 2)\n",
      "alice's credit earned\n",
      "('French', 2)\n",
      "('Sci', 2)\n"
     ]
    }
   ],
   "source": [
    "bob = Student('bob',1)\n",
    "alice = Student('alice',2)\n",
    "bob.registerCredit('English',2)\n",
    "bob.registerCredit('Math',2)\n",
    "alice.registerCredit('French',2)\n",
    "alice.registerCredit('Sci',2)\n",
    "print(f\"{bob.name}'s credit earned\")\n",
    "for c in bob.creditEarned:\n",
    "    print(c)\n",
    "print(f\"{alice.name}'s credit earned\")\n",
    "for c in alice.creditEarned:\n",
    "    print(c)    \n"
   ]
  }
 ],
 "metadata": {
  "kernelspec": {
   "display_name": "Python 3.9.7 ('myenv')",
   "language": "python",
   "name": "python3"
  },
  "language_info": {
   "codemirror_mode": {
    "name": "ipython",
    "version": 3
   },
   "file_extension": ".py",
   "mimetype": "text/x-python",
   "name": "python",
   "nbconvert_exporter": "python",
   "pygments_lexer": "ipython3",
   "version": "3.9.7"
  },
  "orig_nbformat": 4,
  "vscode": {
   "interpreter": {
    "hash": "5b50574aca822a4663eeb358827631e5cbe081f130521b0066dec6b864ef6f2f"
   }
  }
 },
 "nbformat": 4,
 "nbformat_minor": 2
}
