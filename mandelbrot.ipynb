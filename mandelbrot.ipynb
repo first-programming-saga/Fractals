{
 "cells": [
  {
   "cell_type": "code",
   "execution_count": null,
   "metadata": {},
   "outputs": [],
   "source": [
    "import matplotlib.pyplot as plt\n",
    "import math"
   ]
  },
  {
   "cell_type": "code",
   "execution_count": null,
   "metadata": {},
   "outputs": [],
   "source": [
    "def onePoint(c:complex,maxT:int,r:float)->float:\n",
    "    if abs(c) > r:\n",
    "        return 1\n",
    "    z:complex = 0\n",
    "    for k in range(maxT):\n",
    "        z = z * z + c\n",
    "        if abs(z) > r:\n",
    "            return 1 - (k + 1) / maxT\n",
    "    return 0"
   ]
  },
  {
   "cell_type": "code",
   "execution_count": null,
   "metadata": {},
   "outputs": [],
   "source": [
    "fromX = -1.5\n",
    "toX = .5\n",
    "fromY = -1\n",
    "toY = 1\n",
    "n = 500\n",
    "maxT = 64\n",
    "r = 16\n",
    "dx = (toX - fromX) / n\n",
    "dy = (toY - fromY) / n\n",
    "fig,ax = plt.subplots(figsize = (10, 10))\n",
    "ax.set_xlim(fromX, toX)\n",
    "ax.set_ylim(fromY, toY)\n",
    "ax.set_axis_off()\n",
    "for i in range(n):\n",
    "    x = fromX + dx * i\n",
    "    for j in range(n):\n",
    "        y = fromY + dy * j\n",
    "        v = onePoint(x + y * 1j, maxT, r)\n",
    "        ax.scatter([x], [y] , color=(0, 0, v))\n",
    "plt.show()"
   ]
  }
 ],
 "metadata": {
  "kernelspec": {
   "display_name": "Python 3.10.2 ('myenv')",
   "language": "python",
   "name": "python3"
  },
  "language_info": {
   "codemirror_mode": {
    "name": "ipython",
    "version": 3
   },
   "file_extension": ".py",
   "mimetype": "text/x-python",
   "name": "python",
   "nbconvert_exporter": "python",
   "pygments_lexer": "ipython3",
   "version": "3.12.2"
  },
  "orig_nbformat": 4,
  "vscode": {
   "interpreter": {
    "hash": "b3b804b6b7a7d9b475cf928428dd1242016eacc24c47853aaf0f8d1d2228aa39"
   }
  }
 },
 "nbformat": 4,
 "nbformat_minor": 2
}
