{
 "cells": [
  {
   "cell_type": "code",
   "execution_count": null,
   "metadata": {},
   "outputs": [],
   "source": [
    "from IPython.display import display, HTML\n",
    "import matplotlib.pyplot as plt\n",
    "import matplotlib.animation as animation\n",
    "import math\n",
    "import numpy as np\n",
    "from fractal import AF, Fractal "
   ]
  },
  {
   "cell_type": "markdown",
   "metadata": {},
   "source": [
    "# Draw Fractals"
   ]
  },
  {
   "cell_type": "code",
   "execution_count": null,
   "metadata": {},
   "outputs": [],
   "source": [
    "def Sierpinski():\n",
    "    p = math.pi/3\n",
    "    xy = [(0, 0), (1, 0), (1./2, math.sin(p))]\n",
    "    r = s = 0.5\n",
    "    phi = psi = 0.\n",
    "    af = [\n",
    "        AF(r, s, phi, psi, 0, 0),\n",
    "        AF(r, s, phi, psi, 1./2, 0),\n",
    "        AF(r, s, phi, psi, 1./4, math.sin(p)/2)\n",
    "        ]\n",
    "    return Fractal(af, xy)"
   ]
  },
  {
   "cell_type": "code",
   "execution_count": null,
   "metadata": {},
   "outputs": [],
   "source": [
    "def Sierpinski1():\n",
    "    p = math.pi/3\n",
    "    r = s = 0.5\n",
    "    phi = psi = 0.\n",
    "    af = [\n",
    "        AF(r, s, phi, psi, 0, 0),\n",
    "        AF(r, s, phi, psi, 1./2, 0),\n",
    "        AF(r, s, phi, psi, 1./4, math.sin(p)/2)\n",
    "        ]\n",
    "    return Fractal(af)"
   ]
  },
  {
   "cell_type": "code",
   "execution_count": null,
   "metadata": {},
   "outputs": [],
   "source": [
    "def Sierpinski2():\n",
    "    r = s = 0.5\n",
    "    phi = psi = 0.\n",
    "    af = [\n",
    "        AF(r, s, phi, psi, 0, 0),\n",
    "        AF(r, s, phi, psi, 0, 1./2),\n",
    "        AF(r, s, phi, psi, 1./2, 0)\n",
    "    ]\n",
    "    return Fractal(af)"
   ]
  },
  {
   "cell_type": "code",
   "execution_count": null,
   "metadata": {},
   "outputs": [],
   "source": [
    "def Sierpinski3():\n",
    "    p = math.pi\n",
    "    r = s = 0.5\n",
    "    af = [\n",
    "        AF(r, s, 0, 0, 0, 0),\n",
    "        AF(r, s, p, p, 1./2, 1),\n",
    "        AF(r, s, p, p, 1, 1./2)\n",
    "    ]\n",
    "    return Fractal(af)"
   ]
  },
  {
   "cell_type": "code",
   "execution_count": null,
   "metadata": {},
   "outputs": [],
   "source": [
    "def TwinChristmasTree():\n",
    "    p = math.pi/2\n",
    "    r = s = 0.5\n",
    "    af = [\n",
    "        AF(r, s, p, p, 1./2, 0),\n",
    "        AF(r, s, 0, 0, 1./4, 1./2),\n",
    "        AF(r, s, -p, -p, 1./2, 1./2)\n",
    "    ]\n",
    "    return Fractal(af)"
   ]
  },
  {
   "cell_type": "code",
   "execution_count": null,
   "metadata": {},
   "outputs": [],
   "source": [
    "def CantorMaze():\n",
    "    p = math.pi/2.\n",
    "    af = [\n",
    "        AF(1., 1./3, p, p, 1./3., 0),\n",
    "        AF(1./3, 1./3, 0, 0, 1/3., 2/3.),\n",
    "        AF(1., 1./3, -p, -p, 2/3., 1)\n",
    "    ]\n",
    "    return Fractal(af)"
   ]
  },
  {
   "cell_type": "code",
   "execution_count": null,
   "metadata": {},
   "outputs": [],
   "source": [
    "def Dragon():\n",
    "    p = math.pi/2.\n",
    "    x = 0.55\n",
    "    af = [\n",
    "        AF(x, x, -p, -p, 0, 1),\n",
    "        AF(x, x, -p, -p, 0, x),\n",
    "        AF(x, x, -p, -p, 1 - x, (1 + x)/2)\n",
    "    ]\n",
    "    return Fractal(af)\n"
   ]
  },
  {
   "cell_type": "code",
   "execution_count": null,
   "metadata": {},
   "outputs": [],
   "source": [
    "def Koch():\n",
    "    p = math.pi/3.\n",
    "    x = 1./3.\n",
    "    af = [\n",
    "        AF(x, x, 0, 0, 0, 0),\n",
    "        AF(x, x, p, p, x, 0),\n",
    "        AF(x, x, -p, -p, 1/2., math.sin(p)/3),\n",
    "        AF(x, x, 0, 0, 2*x, 0)\n",
    "    ]\n",
    "    return Fractal(af)\n"
   ]
  },
  {
   "cell_type": "markdown",
   "metadata": {},
   "source": [
    "## 確認テスト"
   ]
  },
  {
   "cell_type": "code",
   "execution_count": null,
   "metadata": {},
   "outputs": [],
   "source": [
    "def Exercise():\n",
    "    r = s = 0.5\n",
    "\n",
    "\n",
    "    af = [\n",
    "\n",
    "\n",
    "\n",
    "    ]\n",
    "    return Fractal(af)"
   ]
  },
  {
   "cell_type": "code",
   "execution_count": null,
   "metadata": {},
   "outputs": [],
   "source": [
    "tMax = 8\n",
    "isAnimation = False\n",
    "showMap = True\n",
    "fractal = Exercise()\n",
    "\n",
    "fig= plt.figure(figsize = (10, 10), facecolor = 'w')\n",
    "if showMap:\n",
    "    ax = fig.subplots()\n",
    "    ax.set_xlim(0, 1)\n",
    "    ax.set_ylim(0, 1)\n",
    "    ax.axis(\"off\")\n",
    "    for p in fractal.getMap():\n",
    "        ax.add_patch(p)\n",
    "    plt.savefig(\"map.pdf\")\n",
    "    plt.show()\n",
    "elif isAnimation:\n",
    "    imgs = []\n",
    "    for i in range(tMax):\n",
    "        ax = fig.subplots()\n",
    "        ax.clear()\n",
    "        ax.set_xlim(0, 1)\n",
    "        ax.set_ylim(0, 1)\n",
    "        ax.axis(\"off\")\n",
    "        for p in fractal.getShapes():\n",
    "            ax.add_patch(p)\n",
    "        imgs.append(ax.get_children())\n",
    "        fractal.iterate()\n",
    "    ani = animation.ArtistAnimation(fig, imgs, interval = 1000)\n",
    "    display(HTML(ani.to_jshtml()))\n",
    "else:\n",
    "    ax = fig.subplots()\n",
    "    ax.set_xlim(0, 1)\n",
    "    ax.set_ylim(0, 1)\n",
    "    ax.axis(\"off\")\n",
    "    for i in range(tMax):\n",
    "        fractal.iterate()\n",
    "    for p in fractal.getShapes():\n",
    "        ax.add_patch(p)\n",
    "    plt.savefig('fractal.pdf')\n",
    "    plt.show()\n"
   ]
  },
  {
   "cell_type": "code",
   "execution_count": null,
   "metadata": {},
   "outputs": [],
   "source": []
  }
 ],
 "metadata": {
  "kernelspec": {
   "display_name": "Python 3.9.7 ('myenv')",
   "language": "python",
   "name": "python3"
  },
  "language_info": {
   "codemirror_mode": {
    "name": "ipython",
    "version": 3
   },
   "file_extension": ".py",
   "mimetype": "text/x-python",
   "name": "python",
   "nbconvert_exporter": "python",
   "pygments_lexer": "ipython3",
   "version": "3.9.7"
  },
  "orig_nbformat": 4,
  "vscode": {
   "interpreter": {
    "hash": "5b50574aca822a4663eeb358827631e5cbe081f130521b0066dec6b864ef6f2f"
   }
  }
 },
 "nbformat": 4,
 "nbformat_minor": 2
}
