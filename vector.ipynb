{
 "cells": [
  {
   "cell_type": "markdown",
   "metadata": {},
   "source": [
    "# 2次元ベクトルのクラス"
   ]
  },
  {
   "cell_type": "code",
   "execution_count": null,
   "metadata": {},
   "outputs": [],
   "source": [
    "class Vector:#2 次元ベクトル\n",
    "    def __init__(self, x:float, y:float):\n",
    "        self.x:float = x\n",
    "        self.y:float = y\n",
    "\n",
    "    def __add__(self, other) -> 'Vector':# ベクトルの加算\n",
    "        return Vector(self.x + other.x, self.y + other.y)\n",
    "    \n",
    "    def __sub__(self, other) -> 'Vector':# ベクトルの減算\n",
    "        return Vector(self.x - other.x, self.y - other.y)\n",
    "\n",
    "    def __neg__(self)->'Vector':# ベクトルの符号反転\n",
    "        return Vector(-self.x, -self.y)\n",
    "\n",
    "    def __mul__(self, scalar:float) -> 'Vector':# ベクトルのスカラー倍 vector*scalar\n",
    "        return Vector(self.x * scalar, self.y * scalar)\n",
    "\n",
    "    def __rmul__(self, scalar:float) -> 'Vector':# ベクトルのスカラー倍 scalar*vector\n",
    "        return Vector(self.x * scalar, self.y * scalar)\n",
    "\n",
    "    def __str__(self)->str:# ベクトルの文字列表現\n",
    "        return f'({self.x}, {self.y})'"
   ]
  },
  {
   "cell_type": "code",
   "execution_count": null,
   "metadata": {},
   "outputs": [],
   "source": [
    "v1 = Vector(0.1,0.5)\n",
    "v2 = Vector(0.2,-0.3)\n",
    "v3 = v1 + v2\n",
    "print(v3)\n",
    "print(3*v1)\n",
    "print(-v2)"
   ]
  }
 ],
 "metadata": {
  "kernelspec": {
   "display_name": "myenv",
   "language": "python",
   "name": "python3"
  },
  "language_info": {
   "codemirror_mode": {
    "name": "ipython",
    "version": 3
   },
   "file_extension": ".py",
   "mimetype": "text/x-python",
   "name": "python",
   "nbconvert_exporter": "python",
   "pygments_lexer": "ipython3",
   "version": "3.12.2"
  }
 },
 "nbformat": 4,
 "nbformat_minor": 2
}
